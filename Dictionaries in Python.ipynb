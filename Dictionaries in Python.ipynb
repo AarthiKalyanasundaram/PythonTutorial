{
 "cells": [
  {
   "cell_type": "markdown",
   "metadata": {},
   "source": [
    "### Dictionaries in Python"
   ]
  },
  {
   "cell_type": "markdown",
   "metadata": {},
   "source": [
    "Dictionary in Python follows key value pair . \n",
    "Property of Dictionary are UNORDERED, CHANGEABLE and INDEXED.\n",
    "\n",
    "Syntax for Dictionary:\n",
    "\n",
    "d = {\n",
    "\"key1\" = \"value1\",\n",
    "\"key2\" = \"value2\",\n",
    "\"key3\" = \"value3\"\n",
    "}"
   ]
  },
  {
   "cell_type": "code",
   "execution_count": 2,
   "metadata": {},
   "outputs": [],
   "source": [
    "#Creating a dictionary with variable as dict\n",
    "dict = {\n",
    "    \"Name\" : \"Aarthi\",\n",
    "    \"Age\" : 25,\n",
    "    \"Sex\" : \"Female\"\n",
    "}"
   ]
  },
  {
   "cell_type": "code",
   "execution_count": 3,
   "metadata": {},
   "outputs": [
    {
     "name": "stdout",
     "output_type": "stream",
     "text": [
      "{'Name': 'Aarthi', 'Age': 25, 'Sex': 'Female'}\n"
     ]
    }
   ],
   "source": [
    "#printing this dictionary\n",
    "print(dict)"
   ]
  },
  {
   "cell_type": "code",
   "execution_count": 4,
   "metadata": {},
   "outputs": [
    {
     "name": "stdout",
     "output_type": "stream",
     "text": [
      "Name\n",
      "Age\n",
      "Sex\n"
     ]
    }
   ],
   "source": [
    "#print the keys from the dictionary\n",
    "for i in dict:\n",
    " print(i)"
   ]
  },
  {
   "cell_type": "code",
   "execution_count": 9,
   "metadata": {},
   "outputs": [
    {
     "name": "stdout",
     "output_type": "stream",
     "text": [
      "Aarthi\n",
      "25\n",
      "Female\n"
     ]
    }
   ],
   "source": [
    "#print the values from the dictionary\n",
    "for j in dict:\n",
    " print(dict[j])"
   ]
  },
  {
   "cell_type": "code",
   "execution_count": 10,
   "metadata": {},
   "outputs": [
    {
     "name": "stdout",
     "output_type": "stream",
     "text": [
      "Aarthi\n"
     ]
    }
   ],
   "source": [
    "#print the value of a particular key from the dictionary\n",
    "x = dict[\"Name\"]\n",
    "print(x)"
   ]
  },
  {
   "cell_type": "code",
   "execution_count": 11,
   "metadata": {},
   "outputs": [],
   "source": [
    "#print the value of a particular key from the dictionary using get method\n",
    "y = dict.get(\"Age\")"
   ]
  },
  {
   "cell_type": "code",
   "execution_count": 13,
   "metadata": {},
   "outputs": [
    {
     "name": "stdout",
     "output_type": "stream",
     "text": [
      "{'Name': 'Aarthi', 'Age': 24, 'Sex': 'Female'}\n"
     ]
    }
   ],
   "source": [
    "#Updating the value of a key from the key. \n",
    "dict = {\n",
    "    \"Name\" : \"Aarthi\",\n",
    "    \"Age\" : 25,\n",
    "    \"Sex\" : \"Female\"\n",
    "}\n",
    "dict[\"Age\"] = 24\n",
    "print(dict)"
   ]
  },
  {
   "cell_type": "code",
   "execution_count": 5,
   "metadata": {},
   "outputs": [
    {
     "name": "stdout",
     "output_type": "stream",
     "text": [
      "Aarthi\n",
      "25\n",
      "Female\n"
     ]
    }
   ],
   "source": [
    "#print the value of dictionary using value()\n",
    "for a in dict.values():\n",
    "    print(a)"
   ]
  },
  {
   "cell_type": "code",
   "execution_count": 6,
   "metadata": {},
   "outputs": [
    {
     "name": "stdout",
     "output_type": "stream",
     "text": [
      "Name Aarthi\n",
      "Age 25\n",
      "Sex Female\n"
     ]
    }
   ],
   "source": [
    "#print all the keys with values from the dictionary using items()\n",
    "for b,c in dict.items():\n",
    "    print(b,c)"
   ]
  },
  {
   "cell_type": "code",
   "execution_count": 15,
   "metadata": {},
   "outputs": [
    {
     "name": "stdout",
     "output_type": "stream",
     "text": [
      "Yes! exist\n"
     ]
    }
   ],
   "source": [
    "#Verify if \"Name\" key is present in the dictionary\n",
    "if \"Name\" in dict:\n",
    "    print(\"Yes! exist\")"
   ]
  },
  {
   "cell_type": "code",
   "execution_count": 16,
   "metadata": {},
   "outputs": [
    {
     "name": "stdout",
     "output_type": "stream",
     "text": [
      "3\n"
     ]
    }
   ],
   "source": [
    "#print the total number of key value pairs are in dictionary\n",
    "print(len(dict))"
   ]
  },
  {
   "cell_type": "code",
   "execution_count": 17,
   "metadata": {},
   "outputs": [
    {
     "name": "stdout",
     "output_type": "stream",
     "text": [
      "{'Name': 'Aarthi', 'Age': 25, 'Sex': 'Female', 'Qualification': 'Electrical Engineering'}\n"
     ]
    }
   ],
   "source": [
    "#appending new key value pair to the dictionary\n",
    "dict[\"Qualification\"] = \"Electrical Engineering\"\n",
    "print(dict)"
   ]
  },
  {
   "cell_type": "code",
   "execution_count": 18,
   "metadata": {},
   "outputs": [
    {
     "name": "stdout",
     "output_type": "stream",
     "text": [
      "{'Name': 'Aarthi', 'Sex': 'Female', 'Qualification': 'Electrical Engineering'}\n"
     ]
    }
   ],
   "source": [
    "#removing a key value pair from dictionary using pop()\n",
    "#pop() -> we have to provide the key name which we want to remove\n",
    "dict.pop(\"Age\")\n",
    "print(dict)"
   ]
  },
  {
   "cell_type": "code",
   "execution_count": 19,
   "metadata": {},
   "outputs": [
    {
     "name": "stdout",
     "output_type": "stream",
     "text": [
      "{'Name': 'Aarthi', 'Sex': 'Female'}\n"
     ]
    }
   ],
   "source": [
    "#removing a key value pair from dictionary using popitem()\n",
    "#popitem() -> remove latest entry from the dictionary\n",
    "dict.popitem()\n",
    "print(dict)"
   ]
  },
  {
   "cell_type": "code",
   "execution_count": 20,
   "metadata": {},
   "outputs": [],
   "source": [
    "#del function can delete a dictionary completely and we can delete a particular dictionary too\n",
    "del dict[\"Sex\"]"
   ]
  },
  {
   "cell_type": "code",
   "execution_count": 22,
   "metadata": {},
   "outputs": [
    {
     "name": "stdout",
     "output_type": "stream",
     "text": [
      "<class 'dict'>\n"
     ]
    }
   ],
   "source": [
    "#deleting the entire dictionary\n",
    "dict = {\n",
    "    \"Name\" : \"Aarthi\",\n",
    "    \"Age\" : 25,\n",
    "    \"Sex\" : \"Female\",\n",
    "    \"Qualification\" : \"Electrical Engineering\"\n",
    "}\n",
    "del dict\n",
    "print(dict)"
   ]
  },
  {
   "cell_type": "code",
   "execution_count": 23,
   "metadata": {},
   "outputs": [
    {
     "name": "stdout",
     "output_type": "stream",
     "text": [
      "{}\n"
     ]
    }
   ],
   "source": [
    "#clearing the entire dictionary\n",
    "\n",
    "dict = {\n",
    "    \"Name\" : \"Aarthi\",\n",
    "    \"Age\" : 25,\n",
    "    \"Sex\" : \"Female\",\n",
    "    \"Qualification\" : \"Electrical Engineering\"\n",
    "}\n",
    "dict.clear()\n",
    "print(dict)"
   ]
  },
  {
   "cell_type": "code",
   "execution_count": 26,
   "metadata": {},
   "outputs": [
    {
     "name": "stdout",
     "output_type": "stream",
     "text": [
      "{'Name': 'Aarthi', 'Age': 25, 'Sex': 'Female', 'Qualification': 'Electrical Engineering'}\n"
     ]
    }
   ],
   "source": [
    "#Copying the value of one dictionary to another by 2 ways: 1) Using dict() 2) Using copy()\n",
    "\n",
    "dict = {\n",
    "    \"Name\" : \"Aarthi\",\n",
    "    \"Age\" : 25,\n",
    "    \"Sex\" : \"Female\",\n",
    "    \"Qualification\" : \"Electrical Engineering\"\n",
    "}\n",
    "\n",
    "#copied_dict = dict(dict)\n",
    "#print(copied_dict)\n",
    "\n",
    "copy_dict = dict.copy()\n",
    "print(copy_dict)"
   ]
  },
  {
   "cell_type": "code",
   "execution_count": 32,
   "metadata": {},
   "outputs": [
    {
     "name": "stdout",
     "output_type": "stream",
     "text": [
      "{'10th': {'School': 'Methodist', 'Marks': 471}, '12th': {'School': 'SVS', 'Marks': 1051}, 'BE': {'School': 'Saranthan', 'Marks': 78}}\n"
     ]
    }
   ],
   "source": [
    "#Creating Nested dictionaries\n",
    "AarthiBiodata = {\n",
    "    \"10th\" : {\n",
    "        \"School\" : \"Methodist\",\n",
    "        \"Marks\" : 471\n",
    "    },\n",
    "    \"12th\" : {\n",
    "        \"School\" : \"SVS\",\n",
    "        \"Marks\" : 1051\n",
    "    },\n",
    "    \"BE\" : {\n",
    "        \"School\" : \"Saranthan\",\n",
    "        \"Marks\" : 78\n",
    "    }\n",
    "}\n",
    "print(AarthiBiodata)"
   ]
  },
  {
   "cell_type": "code",
   "execution_count": null,
   "metadata": {},
   "outputs": [],
   "source": []
  }
 ],
 "metadata": {
  "kernelspec": {
   "display_name": "Python 3",
   "language": "python",
   "name": "python3"
  },
  "language_info": {
   "codemirror_mode": {
    "name": "ipython",
    "version": 3
   },
   "file_extension": ".py",
   "mimetype": "text/x-python",
   "name": "python",
   "nbconvert_exporter": "python",
   "pygments_lexer": "ipython3",
   "version": "3.6.5"
  }
 },
 "nbformat": 4,
 "nbformat_minor": 2
}
