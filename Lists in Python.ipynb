{
 "cells": [
  {
   "cell_type": "markdown",
   "metadata": {},
   "source": [
    "# Lists in Python"
   ]
  },
  {
   "cell_type": "markdown",
   "metadata": {},
   "source": [
    "### What is Lists in Python ?"
   ]
  },
  {
   "cell_type": "markdown",
   "metadata": {},
   "source": [
    "#### In Python, we have the following data types.\n",
    "#### They are as follows:\n",
    "#### 1) int\n",
    "#### 2) float\n",
    "#### 3) str\n",
    "#### 4) bool\n",
    "\n",
    "#### Python also provides inbuilt data types.\n",
    "#### They are as shown below:\n",
    "#### 1) Lists\n",
    "#### 2) Sets\n",
    "#### 3) Tuple\n",
    "#### 4) Dictionaries\n",
    "\n"
   ]
  },
  {
   "cell_type": "code",
   "execution_count": 3,
   "metadata": {},
   "outputs": [],
   "source": [
    "#Creation of Lists\n",
    "#syntax:\n",
    "# variable_name = [val1, val2, val3, val4,.....]\n",
    "\n",
    "List = [\"Akshay\",\"1 year\",\"Male\",\"10 kg\",\"30-04-2019\"]"
   ]
  },
  {
   "cell_type": "code",
   "execution_count": 5,
   "metadata": {},
   "outputs": [
    {
     "data": {
      "text/plain": [
       "['Akshay', '1 year', 'Male', '10 kg', '30-04-2019']"
      ]
     },
     "execution_count": 5,
     "metadata": {},
     "output_type": "execute_result"
    }
   ],
   "source": [
    "List\n"
   ]
  },
  {
   "cell_type": "code",
   "execution_count": 6,
   "metadata": {},
   "outputs": [
    {
     "data": {
      "text/plain": [
       "['Akshay', '1 year', 'Male', '10 kg', 'Naughty Boy', '30-04-2019']"
      ]
     },
     "execution_count": 6,
     "metadata": {},
     "output_type": "execute_result"
    }
   ],
   "source": [
    "#Updating the already existing lists\n",
    "\n",
    "List = [\"Akshay\",\"1 year\",\"Male\",\"10 kg\",\"Naughty Boy\",\"30-04-2019\"]\n",
    "List"
   ]
  },
  {
   "cell_type": "markdown",
   "metadata": {},
   "source": [
    "### Accessing the List"
   ]
  },
  {
   "cell_type": "code",
   "execution_count": 7,
   "metadata": {},
   "outputs": [
    {
     "data": {
      "text/plain": [
       "'Akshay'"
      ]
     },
     "execution_count": 7,
     "metadata": {},
     "output_type": "execute_result"
    }
   ],
   "source": [
    "#Printing the very first element in the list which is the Name\n",
    "\n",
    "List[0]"
   ]
  },
  {
   "cell_type": "code",
   "execution_count": 8,
   "metadata": {},
   "outputs": [
    {
     "data": {
      "text/plain": [
       "'30-04-2019'"
      ]
     },
     "execution_count": 8,
     "metadata": {},
     "output_type": "execute_result"
    }
   ],
   "source": [
    "#Printing the very last element in the list which is the DOB\n",
    "\n",
    "List[-1]"
   ]
  },
  {
   "cell_type": "code",
   "execution_count": 12,
   "metadata": {},
   "outputs": [
    {
     "data": {
      "text/plain": [
       "['Akshay', '1 year']"
      ]
     },
     "execution_count": 12,
     "metadata": {},
     "output_type": "execute_result"
    }
   ],
   "source": [
    "#Printing the range of values from the lists\n",
    "#syntax: list[inclusive: exclusive]\n",
    "\n",
    "List[0:2]"
   ]
  },
  {
   "cell_type": "code",
   "execution_count": 10,
   "metadata": {},
   "outputs": [
    {
     "data": {
      "text/plain": [
       "['Akshay', '1 year']"
      ]
     },
     "execution_count": 10,
     "metadata": {},
     "output_type": "execute_result"
    }
   ],
   "source": [
    "#Printing the range of values from the lists by only mentioning the starting or ending points\n",
    "\n",
    "List[:2]"
   ]
  },
  {
   "cell_type": "code",
   "execution_count": 11,
   "metadata": {},
   "outputs": [
    {
     "data": {
      "text/plain": [
       "['Male', '10 kg', 'Naughty Boy', '30-04-2019']"
      ]
     },
     "execution_count": 11,
     "metadata": {},
     "output_type": "execute_result"
    }
   ],
   "source": [
    "#Printing the range of values from the lists by only mentioning the starting or ending points\n",
    "\n",
    "List[2:]"
   ]
  },
  {
   "cell_type": "code",
   "execution_count": 13,
   "metadata": {},
   "outputs": [],
   "source": [
    "#Creating a lists of list\n",
    "#Info list contains 6 lists inside\n",
    "\n",
    "Info = [[\"Name\", \"Akshay\"],\n",
    "       [\"Age\", \"1 year\"],\n",
    "       [\"Sex\", \"Male\"],\n",
    "       [\"Weight\", \"10 kg\"],\n",
    "       [\"Character\", \"Naughty Boy\"],\n",
    "       [\"DOB\", \"30-04-2019\"]]"
   ]
  },
  {
   "cell_type": "code",
   "execution_count": 14,
   "metadata": {},
   "outputs": [
    {
     "data": {
      "text/plain": [
       "['Age', '1 year']"
      ]
     },
     "execution_count": 14,
     "metadata": {},
     "output_type": "execute_result"
    }
   ],
   "source": [
    "Info[1]"
   ]
  },
  {
   "cell_type": "code",
   "execution_count": 15,
   "metadata": {},
   "outputs": [
    {
     "data": {
      "text/plain": [
       "['Name', 'Akshay']"
      ]
     },
     "execution_count": 15,
     "metadata": {},
     "output_type": "execute_result"
    }
   ],
   "source": [
    "Info[0]"
   ]
  },
  {
   "cell_type": "code",
   "execution_count": 16,
   "metadata": {},
   "outputs": [
    {
     "data": {
      "text/plain": [
       "[['Name', 'Akshay Kannan'],\n",
       " ['Age', '1 year'],\n",
       " ['Sex', 'Male'],\n",
       " ['Weight', '10 kg'],\n",
       " ['Character', 'Naughty Boy'],\n",
       " ['DOB', '30-04-2019']]"
      ]
     },
     "execution_count": 16,
     "metadata": {},
     "output_type": "execute_result"
    }
   ],
   "source": [
    "#Updating the value from Akshay to Akshay Kannan\n",
    "\n",
    "Info[0] = [\"Name\",\"Akshay Kannan\"]\n",
    "Info"
   ]
  },
  {
   "cell_type": "code",
   "execution_count": 19,
   "metadata": {},
   "outputs": [
    {
     "data": {
      "text/plain": [
       "'Akshay Kannan'"
      ]
     },
     "execution_count": 19,
     "metadata": {},
     "output_type": "execute_result"
    }
   ],
   "source": [
    "#accessing list of lists\n",
    "#To print \"Akshay Kannan\"\n",
    "\n",
    "Info[0][1]"
   ]
  },
  {
   "cell_type": "code",
   "execution_count": 20,
   "metadata": {},
   "outputs": [],
   "source": [
    "#Copying the List\n",
    "\n",
    "Info1 = Info"
   ]
  },
  {
   "cell_type": "code",
   "execution_count": 22,
   "metadata": {},
   "outputs": [
    {
     "data": {
      "text/plain": [
       "[['Name', 'Akshay Kannan'],\n",
       " ['Age', '1 year'],\n",
       " ['Sex', 'Male'],\n",
       " ['Weight', '10 kg'],\n",
       " ['Character', 'Good Boy'],\n",
       " ['DOB', '30-04-2019']]"
      ]
     },
     "execution_count": 22,
     "metadata": {},
     "output_type": "execute_result"
    }
   ],
   "source": [
    "#Updating Info1\n",
    "\n",
    "Info1[4] = [\"Character\", \"Good Boy\"]\n",
    "Info1\n"
   ]
  },
  {
   "cell_type": "code",
   "execution_count": 23,
   "metadata": {},
   "outputs": [
    {
     "data": {
      "text/plain": [
       "[['Name', 'Akshay Kannan'],\n",
       " ['Age', '1 year'],\n",
       " ['Sex', 'Male'],\n",
       " ['Weight', '10 kg'],\n",
       " ['Character', 'Good Boy'],\n",
       " ['DOB', '30-04-2019']]"
      ]
     },
     "execution_count": 23,
     "metadata": {},
     "output_type": "execute_result"
    }
   ],
   "source": [
    "Info"
   ]
  },
  {
   "cell_type": "code",
   "execution_count": 25,
   "metadata": {},
   "outputs": [
    {
     "name": "stdout",
     "output_type": "stream",
     "text": [
      "[['Name', 'Akshay Kannan'], ['Age', '1 year'], ['Sex', 'Male'], ['Weight', '10 kg'], ['Character', 'Naughty Boy'], ['DOB', '30-04-2019']]\n",
      "[['Name', 'Akshay Kannan'], ['Age', '1 year'], ['Sex', 'Male'], ['Weight', '10 kg'], ['Character', 'Naughty Boy'], ['DOB', '30-04-2019']]\n"
     ]
    }
   ],
   "source": [
    "#We change only the Info1 list, but the changes are also affected in Info list. Here, the address got copied from Info to Info1.\n",
    "#The correct way is as follows\n",
    "\n",
    "Info = [['Name', 'Akshay Kannan'],\n",
    " ['Age', '1 year'],\n",
    " ['Sex', 'Male'],\n",
    " ['Weight', '10 kg'],\n",
    " ['Character', 'Naughty Boy'],\n",
    " ['DOB', '30-04-2019']]\n",
    "print(Info)\n",
    "Info1 = list(Info)\n",
    "print(Info1)"
   ]
  },
  {
   "cell_type": "code",
   "execution_count": 26,
   "metadata": {},
   "outputs": [
    {
     "name": "stdout",
     "output_type": "stream",
     "text": [
      "[['Name', 'Akshay Kannan'], ['Age', '1 year'], ['Sex', 'Male'], ['Weight', '10 kg'], ['Character', 'Naughty Boy'], ['DOB', '30-04-2019']]\n",
      "[['Name', 'Akshay Kannan'], ['Age', '1 year'], ['Sex', 'Male'], ['Weight', '10 kg'], ['Character', 'Good Boy'], ['DOB', '30-04-2019']]\n"
     ]
    }
   ],
   "source": [
    "Info1[4] = [\"Character\", \"Good Boy\"]\n",
    "print(Info)\n",
    "\n",
    "print(Info1)"
   ]
  },
  {
   "cell_type": "code",
   "execution_count": 28,
   "metadata": {},
   "outputs": [
    {
     "data": {
      "text/plain": [
       "[['Name', 'Akshay Kannan'],\n",
       " ['Age', '1 year'],\n",
       " ['Sex', 'Male'],\n",
       " ['Weight', '10 kg'],\n",
       " ['Character', 'Naughty Boy'],\n",
       " ['DOB', '30-04-2019'],\n",
       " \"Mother's Name\",\n",
       " 'Aarthi Kalyanasundaram']"
      ]
     },
     "execution_count": 28,
     "metadata": {},
     "output_type": "execute_result"
    }
   ],
   "source": [
    "#adding an element to a lists\n",
    "\n",
    "Info + [\"Mother's Name\",\"Aarthi Kalyanasundaram\"]\n"
   ]
  },
  {
   "cell_type": "code",
   "execution_count": 29,
   "metadata": {},
   "outputs": [
    {
     "data": {
      "text/plain": [
       "[['Name', 'Akshay Kannan'],\n",
       " ['Age', '1 year'],\n",
       " ['Sex', 'Male'],\n",
       " ['Weight', '10 kg'],\n",
       " ['DOB', '30-04-2019']]"
      ]
     },
     "execution_count": 29,
     "metadata": {},
     "output_type": "execute_result"
    }
   ],
   "source": [
    "#deleting an element from the lists\n",
    "\n",
    "del(Info[4])\n",
    "Info"
   ]
  },
  {
   "cell_type": "code",
   "execution_count": 30,
   "metadata": {},
   "outputs": [
    {
     "data": {
      "text/plain": [
       "[['Name', 'Akshay Kannan'],\n",
       " ['Age', '1 year'],\n",
       " ['Sex', 'Male'],\n",
       " ['Weight', '10 kg'],\n",
       " ['DOB', '30-04-2019'],\n",
       " ['Character', 'Naughty Boy']]"
      ]
     },
     "execution_count": 30,
     "metadata": {},
     "output_type": "execute_result"
    }
   ],
   "source": [
    "#Adding an element to a list using append()\n",
    "\n",
    "Info.append(['Character', 'Naughty Boy'])\n",
    "Info"
   ]
  },
  {
   "cell_type": "code",
   "execution_count": 31,
   "metadata": {},
   "outputs": [
    {
     "data": {
      "text/plain": [
       "[['Name', 'Akshay Kannan'],\n",
       " ['Age', '1 year'],\n",
       " ['Sex', 'Male'],\n",
       " ['Weight', '10 kg'],\n",
       " ['DOB', '30-04-2019']]"
      ]
     },
     "execution_count": 31,
     "metadata": {},
     "output_type": "execute_result"
    }
   ],
   "source": [
    "#Deleting an element from the list using remove()\n",
    "\n",
    "Info.remove(['Character', 'Naughty Boy'])\n",
    "\n",
    "Info"
   ]
  },
  {
   "cell_type": "code",
   "execution_count": 32,
   "metadata": {},
   "outputs": [],
   "source": [
    "#join 2 lists\n",
    "\n",
    "a = [\"Aarthi\",\"24\",\"B.E\",\"Female\"]\n",
    "b = [\"Abinaya\",\"21\",\"B.E\",\"Female\"]\n"
   ]
  },
  {
   "cell_type": "code",
   "execution_count": 33,
   "metadata": {},
   "outputs": [
    {
     "name": "stdout",
     "output_type": "stream",
     "text": [
      "['Aarthi', '24', 'B.E', 'Female', 'Abinaya', '21', 'B.E', 'Female']\n"
     ]
    }
   ],
   "source": [
    "c = a + b\n",
    "\n",
    "print(c)"
   ]
  },
  {
   "cell_type": "code",
   "execution_count": 36,
   "metadata": {},
   "outputs": [
    {
     "name": "stdout",
     "output_type": "stream",
     "text": [
      "['Aarthi', '24', 'B.E', 'Female', 'Abinaya', '21', 'B.E', 'Female', 'Abinaya', '21', 'B.E', 'Female']\n"
     ]
    }
   ],
   "source": [
    "#joining 2 lists using extend method\n",
    "\n",
    "a.extend(b)\n",
    "print(a)"
   ]
  },
  {
   "cell_type": "code",
   "execution_count": 37,
   "metadata": {},
   "outputs": [
    {
     "name": "stdout",
     "output_type": "stream",
     "text": [
      "[]\n"
     ]
    }
   ],
   "source": [
    "#clearing a list using clear command\n",
    "\n",
    "b.clear()\n",
    "print(b)"
   ]
  },
  {
   "cell_type": "code",
   "execution_count": null,
   "metadata": {},
   "outputs": [],
   "source": []
  }
 ],
 "metadata": {
  "kernelspec": {
   "display_name": "Python 3",
   "language": "python",
   "name": "python3"
  },
  "language_info": {
   "codemirror_mode": {
    "name": "ipython",
    "version": 3
   },
   "file_extension": ".py",
   "mimetype": "text/x-python",
   "name": "python",
   "nbconvert_exporter": "python",
   "pygments_lexer": "ipython3",
   "version": "3.6.5"
  }
 },
 "nbformat": 4,
 "nbformat_minor": 2
}
