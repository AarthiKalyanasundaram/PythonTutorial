{
 "cells": [
  {
   "cell_type": "markdown",
   "metadata": {},
   "source": [
    "# PANDAS in Python"
   ]
  },
  {
   "cell_type": "markdown",
   "metadata": {},
   "source": [
    "Pandas is a data analysis library that provides a variety of data structures and data manipulation methods that allows to perform complex tasks with simple one-line commands.\n",
    "\n",
    "There are two core objects in Python. They are \n",
    "\n",
    "1. DatFrame\n",
    "2. Series\n"
   ]
  },
  {
   "cell_type": "code",
   "execution_count": 1,
   "metadata": {},
   "outputs": [
    {
     "data": {
      "text/plain": [
       "'0.23.0'"
      ]
     },
     "execution_count": 1,
     "metadata": {},
     "output_type": "execute_result"
    }
   ],
   "source": [
    "#To find out the version of Pandas library installed\n",
    "\n",
    "import pandas\n",
    "pandas.__version__"
   ]
  },
  {
   "cell_type": "code",
   "execution_count": 2,
   "metadata": {},
   "outputs": [],
   "source": [
    "#Importing packages with alias name\n",
    "\n",
    "import numpy as np\n",
    "import pandas as pd"
   ]
  },
  {
   "cell_type": "code",
   "execution_count": 3,
   "metadata": {},
   "outputs": [
    {
     "data": {
      "text/plain": [
       "0    0\n",
       "1    1\n",
       "2    2\n",
       "3    3\n",
       "4    4\n",
       "5    5\n",
       "dtype: int64"
      ]
     },
     "execution_count": 3,
     "metadata": {},
     "output_type": "execute_result"
    }
   ],
   "source": [
    "#Creating series with variable name as data\n",
    "#Series is a 1 dimensional indexed array\n",
    "\n",
    "data = pd.Series([0, 1, 2, 3, 4, 5])\n",
    "data"
   ]
  },
  {
   "cell_type": "code",
   "execution_count": 4,
   "metadata": {},
   "outputs": [
    {
     "name": "stdout",
     "output_type": "stream",
     "text": [
      "0    0\n",
      "1    1\n",
      "2    2\n",
      "3    3\n",
      "4    4\n",
      "5    5\n",
      "dtype: int64\n"
     ]
    }
   ],
   "source": [
    "print(data)"
   ]
  },
  {
   "cell_type": "code",
   "execution_count": 5,
   "metadata": {},
   "outputs": [
    {
     "data": {
      "text/plain": [
       "array([0, 1, 2, 3, 4, 5], dtype=int64)"
      ]
     },
     "execution_count": 5,
     "metadata": {},
     "output_type": "execute_result"
    }
   ],
   "source": [
    "#print the values of data\n",
    "\n",
    "data.values"
   ]
  },
  {
   "cell_type": "code",
   "execution_count": 8,
   "metadata": {},
   "outputs": [
    {
     "data": {
      "text/plain": [
       "RangeIndex(start=0, stop=6, step=1)"
      ]
     },
     "execution_count": 8,
     "metadata": {},
     "output_type": "execute_result"
    }
   ],
   "source": [
    "#print the index of data\n",
    "\n",
    "data.index"
   ]
  },
  {
   "cell_type": "code",
   "execution_count": 9,
   "metadata": {},
   "outputs": [
    {
     "data": {
      "text/plain": [
       "4"
      ]
     },
     "execution_count": 9,
     "metadata": {},
     "output_type": "execute_result"
    }
   ],
   "source": [
    "#Accessing Series value\n",
    "\n",
    "data[4]"
   ]
  },
  {
   "cell_type": "code",
   "execution_count": 8,
   "metadata": {},
   "outputs": [
    {
     "data": {
      "text/plain": [
       "2    2\n",
       "3    3\n",
       "4    4\n",
       "dtype: int64"
      ]
     },
     "execution_count": 8,
     "metadata": {},
     "output_type": "execute_result"
    }
   ],
   "source": [
    "#Slicing of Series\n",
    "\n",
    "data[2:5]"
   ]
  },
  {
   "cell_type": "code",
   "execution_count": 10,
   "metadata": {},
   "outputs": [
    {
     "data": {
      "text/plain": [
       "a    0\n",
       "b    1\n",
       "c    2\n",
       "d    3\n",
       "e    4\n",
       "f    5\n",
       "dtype: int64"
      ]
     },
     "execution_count": 10,
     "metadata": {},
     "output_type": "execute_result"
    }
   ],
   "source": [
    "#Assigning the customized index\n",
    "\n",
    "data = pd.Series([0, 1, 2, 3, 4, 5], index = [\"a\" , \"b\" , \"c\" , \"d\" ,\"e\", \"f\"])\n",
    "data"
   ]
  },
  {
   "cell_type": "code",
   "execution_count": 11,
   "metadata": {},
   "outputs": [
    {
     "data": {
      "text/plain": [
       "Name    Akshay Kannan\n",
       "Age                 1\n",
       "Sex                 M\n",
       "dtype: object"
      ]
     },
     "execution_count": 11,
     "metadata": {},
     "output_type": "execute_result"
    }
   ],
   "source": [
    "#Converting Python Dict to Pandas Series ->Keys are changed as Indexes and values are changed to value of series.\n",
    "\n",
    "Infant_Details = {\"Name\": \"Akshay Kannan\",\n",
    "                 \"Age\": 1,\n",
    "                 \"Sex\": \"M\"}\n",
    "Infant = pd.Series(Infant_Details)\n",
    "Infant"
   ]
  },
  {
   "cell_type": "code",
   "execution_count": 12,
   "metadata": {},
   "outputs": [
    {
     "data": {
      "text/plain": [
       "'Akshay Kannan'"
      ]
     },
     "execution_count": 12,
     "metadata": {},
     "output_type": "execute_result"
    }
   ],
   "source": [
    "#Accessing the Series\n",
    "\n",
    "Infant.Name"
   ]
  },
  {
   "cell_type": "code",
   "execution_count": 13,
   "metadata": {},
   "outputs": [
    {
     "data": {
      "text/plain": [
       "'Akshay Kannan'"
      ]
     },
     "execution_count": 13,
     "metadata": {},
     "output_type": "execute_result"
    }
   ],
   "source": [
    "#Accessing the Series\n",
    "\n",
    "Infant[\"Name\"]"
   ]
  },
  {
   "cell_type": "code",
   "execution_count": 14,
   "metadata": {},
   "outputs": [
    {
     "data": {
      "text/plain": [
       "Name    Akshay Kannan\n",
       "Age                 1\n",
       "dtype: object"
      ]
     },
     "execution_count": 14,
     "metadata": {},
     "output_type": "execute_result"
    }
   ],
   "source": [
    "#Slicing the Series \n",
    "\n",
    "Infant[\"Name\":\"Age\"]"
   ]
  },
  {
   "cell_type": "code",
   "execution_count": 15,
   "metadata": {},
   "outputs": [
    {
     "data": {
      "text/plain": [
       "Series([], dtype: float64)"
      ]
     },
     "execution_count": 15,
     "metadata": {},
     "output_type": "execute_result"
    }
   ],
   "source": [
    "#Creating empty series\n",
    "\n",
    "e_series = pd.Series()\n",
    "e_series"
   ]
  },
  {
   "cell_type": "code",
   "execution_count": 16,
   "metadata": {},
   "outputs": [
    {
     "data": {
      "text/plain": [
       "0    a\n",
       "1    b\n",
       "2    c\n",
       "3    d\n",
       "dtype: object"
      ]
     },
     "execution_count": 16,
     "metadata": {},
     "output_type": "execute_result"
    }
   ],
   "source": [
    "#Converting Numpy array to Pandas Series\n",
    "\n",
    "data11 = np.array(['a','b','c','d'])\n",
    "np_series = pd.Series(data11)\n",
    "np_series"
   ]
  },
  {
   "cell_type": "code",
   "execution_count": 17,
   "metadata": {},
   "outputs": [
    {
     "data": {
      "text/plain": [
       "0    Aarthi\n",
       "1    Aarthi\n",
       "2    Aarthi\n",
       "3    Aarthi\n",
       "4    Aarthi\n",
       "dtype: object"
      ]
     },
     "execution_count": 17,
     "metadata": {},
     "output_type": "execute_result"
    }
   ],
   "source": [
    "#Create a Series from Scalar\n",
    "\n",
    "s_series = pd.Series(\"Aarthi\", index = [0,1,2,3,4])\n",
    "s_series"
   ]
  },
  {
   "cell_type": "code",
   "execution_count": 18,
   "metadata": {},
   "outputs": [
    {
     "data": {
      "text/html": [
       "<div>\n",
       "<style scoped>\n",
       "    .dataframe tbody tr th:only-of-type {\n",
       "        vertical-align: middle;\n",
       "    }\n",
       "\n",
       "    .dataframe tbody tr th {\n",
       "        vertical-align: top;\n",
       "    }\n",
       "\n",
       "    .dataframe thead th {\n",
       "        text-align: right;\n",
       "    }\n",
       "</style>\n",
       "<table border=\"1\" class=\"dataframe\">\n",
       "  <thead>\n",
       "    <tr style=\"text-align: right;\">\n",
       "      <th></th>\n",
       "      <th>Sl no</th>\n",
       "      <th>Name</th>\n",
       "      <th>Designation</th>\n",
       "      <th>Age</th>\n",
       "      <th>Salary</th>\n",
       "      <th>Department</th>\n",
       "    </tr>\n",
       "  </thead>\n",
       "  <tbody>\n",
       "    <tr>\n",
       "      <th>0</th>\n",
       "      <td>1</td>\n",
       "      <td>Aarthi Kalyanasundaram</td>\n",
       "      <td>Test Engineer</td>\n",
       "      <td>25</td>\n",
       "      <td>40,000</td>\n",
       "      <td>Amex</td>\n",
       "    </tr>\n",
       "    <tr>\n",
       "      <th>1</th>\n",
       "      <td>2</td>\n",
       "      <td>Aishwarya Ragu</td>\n",
       "      <td>Developer</td>\n",
       "      <td>27</td>\n",
       "      <td>60,000</td>\n",
       "      <td>Amex</td>\n",
       "    </tr>\n",
       "    <tr>\n",
       "      <th>2</th>\n",
       "      <td>3</td>\n",
       "      <td>Akshaya Dupati</td>\n",
       "      <td>Developer</td>\n",
       "      <td>25</td>\n",
       "      <td>50,000</td>\n",
       "      <td>Amex</td>\n",
       "    </tr>\n",
       "    <tr>\n",
       "      <th>3</th>\n",
       "      <td>4</td>\n",
       "      <td>Arvind</td>\n",
       "      <td>Developer</td>\n",
       "      <td>24</td>\n",
       "      <td>50,000</td>\n",
       "      <td>Amex</td>\n",
       "    </tr>\n",
       "    <tr>\n",
       "      <th>4</th>\n",
       "      <td>5</td>\n",
       "      <td>Senthil</td>\n",
       "      <td>Developer</td>\n",
       "      <td>38</td>\n",
       "      <td>80,000</td>\n",
       "      <td>Amex</td>\n",
       "    </tr>\n",
       "    <tr>\n",
       "      <th>5</th>\n",
       "      <td>6</td>\n",
       "      <td>Jayaprakash</td>\n",
       "      <td>Developer</td>\n",
       "      <td>25</td>\n",
       "      <td>20,000</td>\n",
       "      <td>Amex</td>\n",
       "    </tr>\n",
       "    <tr>\n",
       "      <th>6</th>\n",
       "      <td>7</td>\n",
       "      <td>Pandi</td>\n",
       "      <td>Developer</td>\n",
       "      <td>26</td>\n",
       "      <td>20,000</td>\n",
       "      <td>Amex</td>\n",
       "    </tr>\n",
       "    <tr>\n",
       "      <th>7</th>\n",
       "      <td>8</td>\n",
       "      <td>Kandarp Pandya</td>\n",
       "      <td>Product Manager</td>\n",
       "      <td>30</td>\n",
       "      <td>80,000</td>\n",
       "      <td>Amex</td>\n",
       "    </tr>\n",
       "    <tr>\n",
       "      <th>8</th>\n",
       "      <td>9</td>\n",
       "      <td>Ashish Dhyani</td>\n",
       "      <td>Data Engineer</td>\n",
       "      <td>30</td>\n",
       "      <td>70,000</td>\n",
       "      <td>Amex</td>\n",
       "    </tr>\n",
       "    <tr>\n",
       "      <th>9</th>\n",
       "      <td>10</td>\n",
       "      <td>Shobana</td>\n",
       "      <td>Test Lead</td>\n",
       "      <td>40</td>\n",
       "      <td>80,000</td>\n",
       "      <td>Amex</td>\n",
       "    </tr>\n",
       "    <tr>\n",
       "      <th>10</th>\n",
       "      <td>11</td>\n",
       "      <td>Shanmugam</td>\n",
       "      <td>Test Engineer</td>\n",
       "      <td>30</td>\n",
       "      <td>70,000</td>\n",
       "      <td>Amex</td>\n",
       "    </tr>\n",
       "    <tr>\n",
       "      <th>11</th>\n",
       "      <td>12</td>\n",
       "      <td>Kumaravel</td>\n",
       "      <td>Test Engineer</td>\n",
       "      <td>28</td>\n",
       "      <td>60,000</td>\n",
       "      <td>Amex</td>\n",
       "    </tr>\n",
       "    <tr>\n",
       "      <th>12</th>\n",
       "      <td>13</td>\n",
       "      <td>Waseem</td>\n",
       "      <td>Delivery Head</td>\n",
       "      <td>38</td>\n",
       "      <td>90,000</td>\n",
       "      <td>Amex</td>\n",
       "    </tr>\n",
       "    <tr>\n",
       "      <th>13</th>\n",
       "      <td>14</td>\n",
       "      <td>Mukund</td>\n",
       "      <td>Technical Archeitect</td>\n",
       "      <td>35</td>\n",
       "      <td>80,000</td>\n",
       "      <td>Amex</td>\n",
       "    </tr>\n",
       "    <tr>\n",
       "      <th>14</th>\n",
       "      <td>15</td>\n",
       "      <td>Somin</td>\n",
       "      <td>Developer</td>\n",
       "      <td>30</td>\n",
       "      <td>70,000</td>\n",
       "      <td>Amex</td>\n",
       "    </tr>\n",
       "    <tr>\n",
       "      <th>15</th>\n",
       "      <td>16</td>\n",
       "      <td>Shibi</td>\n",
       "      <td>Developer</td>\n",
       "      <td>24</td>\n",
       "      <td>20,000</td>\n",
       "      <td>Amex</td>\n",
       "    </tr>\n",
       "    <tr>\n",
       "      <th>16</th>\n",
       "      <td>17</td>\n",
       "      <td>Vinoth</td>\n",
       "      <td>Developer</td>\n",
       "      <td>24</td>\n",
       "      <td>20,000</td>\n",
       "      <td>Amex</td>\n",
       "    </tr>\n",
       "  </tbody>\n",
       "</table>\n",
       "</div>"
      ],
      "text/plain": [
       "    Sl no                    Name           Designation  Age  Salary  \\\n",
       "0       1  Aarthi Kalyanasundaram         Test Engineer   25  40,000   \n",
       "1       2          Aishwarya Ragu             Developer   27  60,000   \n",
       "2       3          Akshaya Dupati             Developer   25  50,000   \n",
       "3       4                  Arvind             Developer   24  50,000   \n",
       "4       5                 Senthil             Developer   38  80,000   \n",
       "5       6             Jayaprakash             Developer   25  20,000   \n",
       "6       7                   Pandi             Developer   26  20,000   \n",
       "7       8          Kandarp Pandya       Product Manager   30  80,000   \n",
       "8       9           Ashish Dhyani         Data Engineer   30  70,000   \n",
       "9      10                 Shobana             Test Lead   40  80,000   \n",
       "10     11               Shanmugam         Test Engineer   30  70,000   \n",
       "11     12               Kumaravel         Test Engineer   28  60,000   \n",
       "12     13                  Waseem         Delivery Head   38  90,000   \n",
       "13     14                  Mukund  Technical Archeitect   35  80,000   \n",
       "14     15                   Somin             Developer   30  70,000   \n",
       "15     16                   Shibi             Developer   24  20,000   \n",
       "16     17                  Vinoth             Developer   24  20,000   \n",
       "\n",
       "   Department  \n",
       "0        Amex  \n",
       "1        Amex  \n",
       "2        Amex  \n",
       "3        Amex  \n",
       "4        Amex  \n",
       "5        Amex  \n",
       "6        Amex  \n",
       "7        Amex  \n",
       "8        Amex  \n",
       "9        Amex  \n",
       "10       Amex  \n",
       "11       Amex  \n",
       "12       Amex  \n",
       "13       Amex  \n",
       "14       Amex  \n",
       "15       Amex  \n",
       "16       Amex  "
      ]
     },
     "execution_count": 18,
     "metadata": {},
     "output_type": "execute_result"
    }
   ],
   "source": [
    "#Reading a CSV file\n",
    "\n",
    "info = pd.read_csv(\"D:/New folder/CSV Practise .csv\")\n",
    "info"
   ]
  },
  {
   "cell_type": "code",
   "execution_count": 20,
   "metadata": {},
   "outputs": [
    {
     "data": {
      "text/plain": [
       "0     40,000\n",
       "1     60,000\n",
       "2     50,000\n",
       "3     50,000\n",
       "4     80,000\n",
       "5     20,000\n",
       "6     20,000\n",
       "7     80,000\n",
       "8     70,000\n",
       "9     80,000\n",
       "10    70,000\n",
       "11    60,000\n",
       "12    90,000\n",
       "13    80,000\n",
       "14    70,000\n",
       "15    20,000\n",
       "16    20,000\n",
       "Name: Salary, dtype: object"
      ]
     },
     "execution_count": 20,
     "metadata": {},
     "output_type": "execute_result"
    }
   ],
   "source": [
    "salary = pd.Series(info[\"Salary\"])\n",
    "salary"
   ]
  },
  {
   "cell_type": "code",
   "execution_count": 21,
   "metadata": {},
   "outputs": [
    {
     "data": {
      "text/plain": [
       "'20,000'"
      ]
     },
     "execution_count": 21,
     "metadata": {},
     "output_type": "execute_result"
    }
   ],
   "source": [
    "salary.min()"
   ]
  },
  {
   "cell_type": "code",
   "execution_count": 22,
   "metadata": {},
   "outputs": [
    {
     "data": {
      "text/plain": [
       "'90,000'"
      ]
     },
     "execution_count": 22,
     "metadata": {},
     "output_type": "execute_result"
    }
   ],
   "source": [
    "salary.max()"
   ]
  },
  {
   "cell_type": "code",
   "execution_count": 23,
   "metadata": {},
   "outputs": [
    {
     "data": {
      "text/plain": [
       "3    50,000\n",
       "4    80,000\n",
       "5    20,000\n",
       "Name: Salary, dtype: object"
      ]
     },
     "execution_count": 23,
     "metadata": {},
     "output_type": "execute_result"
    }
   ],
   "source": [
    "#indexing the series using .loc() function -> provides the values from start num mentioned and include the end number also\n",
    "\n",
    "salary.loc[3:5]"
   ]
  },
  {
   "cell_type": "code",
   "execution_count": 24,
   "metadata": {},
   "outputs": [
    {
     "data": {
      "text/plain": [
       "3    50,000\n",
       "4    80,000\n",
       "Name: Salary, dtype: object"
      ]
     },
     "execution_count": 24,
     "metadata": {},
     "output_type": "execute_result"
    }
   ],
   "source": [
    "#indexing the series using .iloc() function -> provides the values from start num mentioned and exclude the end number\n",
    "\n",
    "salary.iloc[3:5]"
   ]
  },
  {
   "cell_type": "code",
   "execution_count": 27,
   "metadata": {},
   "outputs": [
    {
     "name": "stdout",
     "output_type": "stream",
     "text": [
      "a    5\n",
      "b    2\n",
      "c    3\n",
      "d    7\n",
      "dtype: int64 \n",
      "\n",
      " a    1\n",
      "b    6\n",
      "d    4\n",
      "e    9\n",
      "dtype: int64\n"
     ]
    }
   ],
   "source": [
    "d1 = pd.Series([5, 2, 3, 7], index=['a', 'b', 'c', 'd'])\n",
    "d2 = pd.Series([1, 6, 4, 9], index=['a', 'b', 'd', 'e'])\n",
    "print(d1, \"\\n\\n\", d2)"
   ]
  },
  {
   "cell_type": "code",
   "execution_count": 30,
   "metadata": {},
   "outputs": [
    {
     "data": {
      "text/plain": [
       "a     6.0\n",
       "b     8.0\n",
       "c     3.0\n",
       "d    11.0\n",
       "e     9.0\n",
       "dtype: float64"
      ]
     },
     "execution_count": 30,
     "metadata": {},
     "output_type": "execute_result"
    }
   ],
   "source": [
    "d1.add(d2, fill_value=0)"
   ]
  },
  {
   "cell_type": "code",
   "execution_count": 31,
   "metadata": {},
   "outputs": [
    {
     "data": {
      "text/plain": [
       "a     6.0\n",
       "b     8.0\n",
       "c     NaN\n",
       "d    11.0\n",
       "e     NaN\n",
       "dtype: float64"
      ]
     },
     "execution_count": 31,
     "metadata": {},
     "output_type": "execute_result"
    }
   ],
   "source": [
    "d1.add(d2)"
   ]
  },
  {
   "cell_type": "code",
   "execution_count": 32,
   "metadata": {},
   "outputs": [
    {
     "data": {
      "text/plain": [
       "dtype('O')"
      ]
     },
     "execution_count": 32,
     "metadata": {},
     "output_type": "execute_result"
    }
   ],
   "source": [
    "#Find out the data type of salary series\n",
    "\n",
    "salary.dtype"
   ]
  },
  {
   "cell_type": "code",
   "execution_count": 34,
   "metadata": {},
   "outputs": [
    {
     "data": {
      "text/plain": [
       "17"
      ]
     },
     "execution_count": 34,
     "metadata": {},
     "output_type": "execute_result"
    }
   ],
   "source": [
    "#Find out the count of elements in the salary series -> Provide all data points includes the null als0\n",
    "\n",
    "salary.count()"
   ]
  },
  {
   "cell_type": "code",
   "execution_count": 37,
   "metadata": {},
   "outputs": [
    {
     "data": {
      "text/plain": [
       "16    20,000\n",
       "15    20,000\n",
       "6     20,000\n",
       "5     20,000\n",
       "0     40,000\n",
       "3     50,000\n",
       "2     50,000\n",
       "1     60,000\n",
       "11    60,000\n",
       "10    70,000\n",
       "14    70,000\n",
       "8     70,000\n",
       "7     80,000\n",
       "9     80,000\n",
       "13    80,000\n",
       "4     80,000\n",
       "12    90,000\n",
       "Name: Salary, dtype: object"
      ]
     },
     "execution_count": 37,
     "metadata": {},
     "output_type": "execute_result"
    }
   ],
   "source": [
    "#sort_values() -> sort all the data points in asc order by default\n",
    "\n",
    "salary.sort_values()"
   ]
  },
  {
   "cell_type": "code",
   "execution_count": 38,
   "metadata": {},
   "outputs": [
    {
     "data": {
      "text/plain": [
       "12    90,000\n",
       "4     80,000\n",
       "13    80,000\n",
       "9     80,000\n",
       "7     80,000\n",
       "8     70,000\n",
       "14    70,000\n",
       "10    70,000\n",
       "11    60,000\n",
       "1     60,000\n",
       "2     50,000\n",
       "3     50,000\n",
       "0     40,000\n",
       "5     20,000\n",
       "6     20,000\n",
       "15    20,000\n",
       "16    20,000\n",
       "Name: Salary, dtype: object"
      ]
     },
     "execution_count": 38,
     "metadata": {},
     "output_type": "execute_result"
    }
   ],
   "source": [
    "#To sort the values in desending order\n",
    "\n",
    "salary.sort_values(ascending =False)"
   ]
  },
  {
   "cell_type": "code",
   "execution_count": 39,
   "metadata": {},
   "outputs": [
    {
     "data": {
      "text/plain": [
       "12    90,000\n",
       "4     80,000\n",
       "13    80,000\n",
       "9     80,000\n",
       "7     80,000\n",
       "8     70,000\n",
       "14    70,000\n",
       "10    70,000\n",
       "11    60,000\n",
       "1     60,000\n",
       "Name: Salary, dtype: object"
      ]
     },
     "execution_count": 39,
     "metadata": {},
     "output_type": "execute_result"
    }
   ],
   "source": [
    "#Sort the series in descending order and view only the first 10 values\n",
    "\n",
    "salary.sort_values(ascending =False).head(10)"
   ]
  },
  {
   "cell_type": "code",
   "execution_count": 40,
   "metadata": {},
   "outputs": [
    {
     "data": {
      "text/plain": [
       "6     20,000\n",
       "15    20,000\n",
       "16    20,000\n",
       "Name: Salary, dtype: object"
      ]
     },
     "execution_count": 40,
     "metadata": {},
     "output_type": "execute_result"
    }
   ],
   "source": [
    "#Sort the  series in descending order and  view only last 3 values\n",
    "\n",
    "salary.sort_values(ascending =False).tail(3)"
   ]
  },
  {
   "cell_type": "code",
   "execution_count": 41,
   "metadata": {},
   "outputs": [
    {
     "data": {
      "text/plain": [
       "array(['40,000', '60,000', '50,000', '80,000', '20,000', '70,000',\n",
       "       '90,000'], dtype=object)"
      ]
     },
     "execution_count": 41,
     "metadata": {},
     "output_type": "execute_result"
    }
   ],
   "source": [
    "#Find out the unique values in the series\n",
    "\n",
    "salary.unique()"
   ]
  },
  {
   "cell_type": "code",
   "execution_count": 42,
   "metadata": {},
   "outputs": [
    {
     "data": {
      "text/plain": [
       "7"
      ]
     },
     "execution_count": 42,
     "metadata": {},
     "output_type": "execute_result"
    }
   ],
   "source": [
    "#Find out the count of unique values in the series\n",
    "\n",
    "salary.nunique()"
   ]
  },
  {
   "cell_type": "code",
   "execution_count": 43,
   "metadata": {},
   "outputs": [
    {
     "data": {
      "text/plain": [
       "80,000    4\n",
       "20,000    4\n",
       "70,000    3\n",
       "50,000    2\n",
       "60,000    2\n",
       "40,000    1\n",
       "90,000    1\n",
       "Name: Salary, dtype: int64"
      ]
     },
     "execution_count": 43,
     "metadata": {},
     "output_type": "execute_result"
    }
   ],
   "source": [
    "#value_counts() -> to count the number of the times each unique value occurs in a Series\n",
    "\n",
    "salary.value_counts()"
   ]
  }
 ],
 "metadata": {
  "kernelspec": {
   "display_name": "Python 3",
   "language": "python",
   "name": "python3"
  },
  "language_info": {
   "codemirror_mode": {
    "name": "ipython",
    "version": 3
   },
   "file_extension": ".py",
   "mimetype": "text/x-python",
   "name": "python",
   "nbconvert_exporter": "python",
   "pygments_lexer": "ipython3",
   "version": "3.6.5"
  }
 },
 "nbformat": 4,
 "nbformat_minor": 2
}
